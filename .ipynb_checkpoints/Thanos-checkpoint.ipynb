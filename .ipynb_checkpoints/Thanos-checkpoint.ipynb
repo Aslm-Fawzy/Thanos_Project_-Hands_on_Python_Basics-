{
 "cells": [
  {
   "cell_type": "markdown",
   "metadata": {},
   "source": [
    "<img src=\"thanos.jpg\">"
   ]
  },
  {
   "cell_type": "code",
   "execution_count": 1,
   "metadata": {},
   "outputs": [],
   "source": [
    "import os\n",
    "import random\n",
    "import time"
   ]
  },
  {
   "cell_type": "code",
   "execution_count": 2,
   "metadata": {},
   "outputs": [],
   "source": [
    "def show_universe_people(place):\n",
    "    people = os.listdir(place)\n",
    "    return people"
   ]
  },
  {
   "cell_type": "code",
   "execution_count": 4,
   "metadata": {},
   "outputs": [
    {
     "name": "stdout",
     "output_type": "stream",
     "text": [
      "['cover003.png', 'cover004.png', 'cover005.png', 'cover006.png', 'cover009.png', 'cover011.png', 'cover014.png', 'cover015.png', 'cover016.png', 'cover018.png', 'cover020.png', 'cover023.png', 'cover024.png', 'cover025.png', 'cover027.png', 'cover028.png', 'cover030.png', 'cover031.png', 'cover033.png', 'cover039.png', 'cover040.png', 'cover041.png', 'cover043.png', 'cover046.png', 'cover050.png']\n"
     ]
    }
   ],
   "source": [
    "universe = show_universe_people('universe')\n",
    "print (universe)"
   ]
  },
  {
   "cell_type": "code",
   "execution_count": 5,
   "metadata": {},
   "outputs": [
    {
     "data": {
      "text/plain": [
       "25"
      ]
     },
     "execution_count": 5,
     "metadata": {},
     "output_type": "execute_result"
    }
   ],
   "source": [
    "len(universe)"
   ]
  },
  {
   "cell_type": "code",
   "execution_count": 6,
   "metadata": {},
   "outputs": [
    {
     "data": {
      "text/plain": [
       "12.5"
      ]
     },
     "execution_count": 6,
     "metadata": {},
     "output_type": "execute_result"
    }
   ],
   "source": [
    "len(universe) / 2"
   ]
  },
  {
   "cell_type": "code",
   "execution_count": 24,
   "metadata": {},
   "outputs": [
    {
     "data": {
      "text/plain": [
       "25.5"
      ]
     },
     "execution_count": 24,
     "metadata": {},
     "output_type": "execute_result"
    }
   ],
   "source": [
    "51 / 2"
   ]
  },
  {
   "cell_type": "code",
   "execution_count": 25,
   "metadata": {},
   "outputs": [
    {
     "data": {
      "text/plain": [
       "25"
      ]
     },
     "execution_count": 25,
     "metadata": {},
     "output_type": "execute_result"
    }
   ],
   "source": [
    "51 // 2"
   ]
  },
  {
   "cell_type": "code",
   "execution_count": 26,
   "metadata": {},
   "outputs": [
    {
     "data": {
      "text/plain": [
       "25"
      ]
     },
     "execution_count": 26,
     "metadata": {},
     "output_type": "execute_result"
    }
   ],
   "source": [
    "len(universe) // 2"
   ]
  },
  {
   "cell_type": "code",
   "execution_count": 27,
   "metadata": {},
   "outputs": [
    {
     "data": {
      "text/plain": [
       "'cover019.png'"
      ]
     },
     "execution_count": 27,
     "metadata": {},
     "output_type": "execute_result"
    }
   ],
   "source": [
    "random.choice(universe)"
   ]
  },
  {
   "cell_type": "markdown",
   "metadata": {},
   "source": [
    "**Start Destroying The World**"
   ]
  },
  {
   "cell_type": "code",
   "execution_count": 7,
   "metadata": {},
   "outputs": [],
   "source": [
    "def thanos_snap(universe):\n",
    "    half_of_universe = len(universe) // 2\n",
    "    for i in range(half_of_universe):\n",
    "        universe = show_universe_people('universe')\n",
    "        random_victim = random.choice(universe)\n",
    "        os.remove(f'universe/{random_victim}')\n",
    "        time.sleep(1)\n",
    "        print(f\"Destroying: {random_victim}\")\n",
    "    print('Perfectly balanced, as all things should be')"
   ]
  },
  {
   "cell_type": "code",
   "execution_count": 8,
   "metadata": {},
   "outputs": [
    {
     "name": "stdout",
     "output_type": "stream",
     "text": [
      "Destroying: cover046.png\n",
      "Destroying: cover040.png\n",
      "Destroying: cover043.png\n",
      "Destroying: cover023.png\n",
      "Destroying: cover020.png\n",
      "Destroying: cover016.png\n",
      "Destroying: cover025.png\n",
      "Destroying: cover011.png\n",
      "Destroying: cover050.png\n",
      "Destroying: cover004.png\n",
      "Destroying: cover039.png\n",
      "Destroying: cover009.png\n",
      "Perfectly balanced, as all things should be\n"
     ]
    }
   ],
   "source": [
    "thanos_snap(universe)"
   ]
  },
  {
   "cell_type": "code",
   "execution_count": 9,
   "metadata": {},
   "outputs": [],
   "source": [
    "new_universe = show_universe_people('universe')"
   ]
  },
  {
   "cell_type": "code",
   "execution_count": 10,
   "metadata": {},
   "outputs": [
    {
     "name": "stdout",
     "output_type": "stream",
     "text": [
      "13\n"
     ]
    }
   ],
   "source": [
    "print(len(new_universe))"
   ]
  },
  {
   "cell_type": "code",
   "execution_count": 11,
   "metadata": {},
   "outputs": [
    {
     "data": {
      "text/plain": [
       "['cover003.png',\n",
       " 'cover005.png',\n",
       " 'cover006.png',\n",
       " 'cover014.png',\n",
       " 'cover015.png',\n",
       " 'cover018.png',\n",
       " 'cover024.png',\n",
       " 'cover027.png',\n",
       " 'cover028.png',\n",
       " 'cover030.png',\n",
       " 'cover031.png',\n",
       " 'cover033.png',\n",
       " 'cover041.png']"
      ]
     },
     "execution_count": 11,
     "metadata": {},
     "output_type": "execute_result"
    }
   ],
   "source": [
    "new_universe"
   ]
  },
  {
   "cell_type": "markdown",
   "metadata": {},
   "source": [
    "# Great Work!"
   ]
  }
 ],
 "metadata": {
  "kernelspec": {
   "display_name": "Python 3",
   "language": "python",
   "name": "python3"
  },
  "language_info": {
   "codemirror_mode": {
    "name": "ipython",
    "version": 3
   },
   "file_extension": ".py",
   "mimetype": "text/x-python",
   "name": "python",
   "nbconvert_exporter": "python",
   "pygments_lexer": "ipython3",
   "version": "3.7.3"
  }
 },
 "nbformat": 4,
 "nbformat_minor": 2
}
